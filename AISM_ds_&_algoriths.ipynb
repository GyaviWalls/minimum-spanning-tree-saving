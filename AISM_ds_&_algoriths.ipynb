{
  "cells": [
    {
      "cell_type": "markdown",
      "id": "49b7a7b1-28c3-44d2-b64a-598c9169be15",
      "metadata": {
        "id": "49b7a7b1-28c3-44d2-b64a-598c9169be15"
      },
      "source": [
        "# Maximum saving achieved by hamiltonian path\n",
        "\n",
        "> Author: Gyavira Ayebare.B"
      ]
    },
    {
      "cell_type": "markdown",
      "source": [
        "![Coding question](https://drive.google.com/uc?id=14pkRkL5CvPhdhyVKYVSF050sBzpTtbwF)\n",
        "\n"
      ],
      "metadata": {
        "id": "yJWXrVPrDeRC"
      },
      "id": "yJWXrVPrDeRC"
    },
    {
      "cell_type": "markdown",
      "id": "5e1333c7-e23e-43a8-8fd6-12ad793a4989",
      "metadata": {
        "id": "5e1333c7-e23e-43a8-8fd6-12ad793a4989"
      },
      "source": [
        "> ignoring boilerplate format for better exploratory motion and explanations..."
      ]
    },
    {
      "cell_type": "markdown",
      "id": "a0e00a47-406c-445d-8473-2dd3d2fd7916",
      "metadata": {
        "id": "a0e00a47-406c-445d-8473-2dd3d2fd7916"
      },
      "source": [
        "### Imports"
      ]
    },
    {
      "cell_type": "code",
      "execution_count": null,
      "id": "2898fda3-ee76-4e61-b579-8a6b06bd9473",
      "metadata": {
        "id": "2898fda3-ee76-4e61-b579-8a6b06bd9473"
      },
      "outputs": [],
      "source": [
        "from random import randint\n",
        "import numpy as np\n"
      ]
    },
    {
      "cell_type": "markdown",
      "id": "5652fc3c-6eda-4fd7-a214-e9583ba544e4",
      "metadata": {
        "id": "5652fc3c-6eda-4fd7-a214-e9583ba544e4"
      },
      "source": [
        "### Helper functions declaration"
      ]
    },
    {
      "cell_type": "code",
      "execution_count": null,
      "id": "1c0f14a4-7614-4635-9268-2e68189f43e3",
      "metadata": {
        "id": "1c0f14a4-7614-4635-9268-2e68189f43e3"
      },
      "outputs": [],
      "source": [
        "## HELPER FUNCTIONS\n",
        "\n",
        "# finding the summation\n",
        "def sum(digit):\n",
        "    if digit <= 1: return digit\n",
        "\n",
        "    return digit + sum(digit-1)\n",
        "\n",
        "\n",
        "#  getting coordinates based on the iterated digit...\n",
        "def co_ords(place, arrNo):\n",
        "    x, cnt = 0, 0\n",
        "\n",
        "    for i in range(1, arrNo):\n",
        "        if cnt >= place: break\n",
        "        cnt, x = sum(i), i\n",
        "\n",
        "    # sent specifically to call unto the opposite of the structure\n",
        "    return (x, place-sum(x-1)-1)\n",
        "\n",
        "\n",
        "def create_matrix(string_data):\n",
        "    visual_aid = [ [ int(col) if col.isdigit() else np.inf for col in row.split(',') ] for row in input_network.split() ]\n",
        "\n",
        "    matrix_store, arr_sum = {}, 0\n",
        "    for row_no, row in enumerate(string_data.split()):\n",
        "        tmp_arr = {}\n",
        "        for col_no, col in enumerate(row.split(',')):\n",
        "            if col.isdigit():\n",
        "                tmp_arr[col_no] = (int(col), row_no, col_no)\n",
        "                arr_sum += int(col)\n",
        "            else:\n",
        "                tmp_arr[col_no] = (np.inf, row_no, col_no)\n",
        "        matrix_store[row_no] = tmp_arr\n",
        "\n",
        "    return np.array(visual_aid), matrix_store, arr_sum / 2\n"
      ]
    },
    {
      "cell_type": "markdown",
      "id": "0f6ee9df-9f7f-4a9e-aba8-3831b6079aa7",
      "metadata": {
        "id": "0f6ee9df-9f7f-4a9e-aba8-3831b6079aa7"
      },
      "source": [
        "### Data structure initialisation and checking"
      ]
    },
    {
      "cell_type": "code",
      "execution_count": null,
      "id": "bf95792d-1f06-4668-9d53-e8891b45328d",
      "metadata": {
        "id": "bf95792d-1f06-4668-9d53-e8891b45328d",
        "outputId": "62ccfaa2-5c9e-4f03-f29c-e52ee9dcb720"
      },
      "outputs": [
        {
          "name": "stdout",
          "output_type": "stream",
          "text": [
            "[[inf 14. 10. 19. inf inf inf]\n",
            " [14. inf inf 15. 18. inf inf]\n",
            " [10. inf inf 26. inf 29. inf]\n",
            " [19. 15. 26. inf 16. 17. 21.]\n",
            " [inf 18. inf 16. inf inf  9.]\n",
            " [inf inf 29. 17. inf inf 25.]\n",
            " [inf inf inf 21.  9. 25. inf]]\n",
            "-------------------------------------------------------\n",
            "{0: (inf, 0, 0), 1: (14, 0, 1), 2: (10, 0, 2), 3: (19, 0, 3), 4: (inf, 0, 4), 5: (inf, 0, 5), 6: (inf, 0, 6)}\n",
            "{0: (14, 1, 0), 1: (inf, 1, 1), 2: (inf, 1, 2), 3: (15, 1, 3), 4: (18, 1, 4), 5: (inf, 1, 5), 6: (inf, 1, 6)}\n",
            "{0: (10, 2, 0), 1: (inf, 2, 1), 2: (inf, 2, 2), 3: (26, 2, 3), 4: (inf, 2, 4), 5: (29, 2, 5), 6: (inf, 2, 6)}\n",
            "{0: (19, 3, 0), 1: (15, 3, 1), 2: (26, 3, 2), 3: (inf, 3, 3), 4: (16, 3, 4), 5: (17, 3, 5), 6: (21, 3, 6)}\n",
            "{0: (inf, 4, 0), 1: (18, 4, 1), 2: (inf, 4, 2), 3: (16, 4, 3), 4: (inf, 4, 4), 5: (inf, 4, 5), 6: (9, 4, 6)}\n",
            "{0: (inf, 5, 0), 1: (inf, 5, 1), 2: (29, 5, 2), 3: (17, 5, 3), 4: (inf, 5, 4), 5: (inf, 5, 5), 6: (25, 5, 6)}\n",
            "{0: (inf, 6, 0), 1: (inf, 6, 1), 2: (inf, 6, 2), 3: (21, 6, 3), 4: (9, 6, 4), 5: (25, 6, 5), 6: (inf, 6, 6)}\n"
          ]
        }
      ],
      "source": [
        "input_network = '''-,14,10,19,-,-,-\n",
        "14,-,-,15,18,-,-\n",
        "10,-,-,26,,29,-\n",
        "19,15,26,-,16,17,21\n",
        "-,18,-,16,-,-,9\n",
        "-,-,29,17,-,-,25\n",
        "-,-,-,21,9,25,-\n",
        "'''\n",
        "\n",
        "input_network, data_store, initial_sum = create_matrix(input_network)\n",
        "\n",
        "print(input_network)\n",
        "print('\\n-------------------------------------------------------\\n')\n",
        "\n",
        "\n",
        "## hahaha!    Nested Dictionary ---\n",
        "for item in data_store.values():\n",
        "    print(item)\n"
      ]
    },
    {
      "cell_type": "code",
      "execution_count": null,
      "id": "24b6617a-25a2-49d8-9730-4eedd09883f0",
      "metadata": {
        "id": "24b6617a-25a2-49d8-9730-4eedd09883f0"
      },
      "outputs": [],
      "source": []
    },
    {
      "cell_type": "markdown",
      "id": "34666c76-820b-422f-adce-03aad3418e7f",
      "metadata": {
        "id": "34666c76-820b-422f-adce-03aad3418e7f"
      },
      "source": [
        "### Iteration Variants"
      ]
    },
    {
      "cell_type": "markdown",
      "id": "b2a6ef00-666b-4f2e-b2cd-884b607de098",
      "metadata": {
        "id": "b2a6ef00-666b-4f2e-b2cd-884b607de098"
      },
      "source": [
        "> NB: technically there are more than 2 of them."
      ]
    },
    {
      "cell_type": "code",
      "execution_count": null,
      "id": "9e5bbc66-1ed2-4e4b-8dce-d0aa79839654",
      "metadata": {
        "id": "9e5bbc66-1ed2-4e4b-8dce-d0aa79839654",
        "outputId": "bff0f0b1-550f-4cc6-f99c-0124f3b48890"
      },
      "outputs": [
        {
          "name": "stdout",
          "output_type": "stream",
          "text": [
            "\n",
            "(1, 0)-1\t\n",
            "(2, 0)-2\t(2, 1)-3\t\n",
            "(3, 0)-4\t(3, 1)-5\t(3, 2)-6\t\n",
            "(4, 0)-7\t(4, 1)-8\t(4, 2)-9\t(4, 3)-10\t\n",
            "(5, 0)-11\t(5, 1)-12\t(5, 2)-13\t(5, 3)-14\t(5, 4)-15\t\n",
            "(6, 0)-16\t(6, 1)-17\t(6, 2)-18\t(6, 3)-19\t(6, 4)-20\t(6, 5)-21\t\n"
          ]
        }
      ],
      "source": [
        "###  LOWER HALF\n",
        "# - we can either give precedence to either counter or position\n",
        "#     counter: row based motion arrangement\n",
        "#     position: column based motion arrangement\n",
        "\n",
        "cnt, size = 1, len(input_network)\n",
        "\n",
        "for i in range(1, size+1):\n",
        "    for j in range(1, i):\n",
        "        # print(cnt, end='\\t')\n",
        "        print(f'({i-1}, {j-1})-{cnt}', end='\\t')\n",
        "        cnt += 1\n",
        "    print()\n",
        "\n"
      ]
    },
    {
      "cell_type": "code",
      "execution_count": null,
      "id": "fa4a465c-c8dc-4a54-a53e-7719c315c84f",
      "metadata": {
        "id": "fa4a465c-c8dc-4a54-a53e-7719c315c84f",
        "outputId": "d4702c34-7c23-4adb-b047-4cdea578d992"
      },
      "outputs": [
        {
          "name": "stdout",
          "output_type": "stream",
          "text": [
            "(0, 1)-1\t(0, 2)-2\t(0, 3)-3\t(0, 4)-4\t(0, 5)-5\t(0, 6)-6\t\n",
            "\t\t(1, 2)-7\t(1, 3)-8\t(1, 4)-9\t(1, 5)-10\t(1, 6)-11\t\n",
            "\t\t\t\t(2, 3)-12\t(2, 4)-13\t(2, 5)-14\t(2, 6)-15\t\n",
            "\t\t\t\t\t\t(3, 4)-16\t(3, 5)-17\t(3, 6)-18\t\n",
            "\t\t\t\t\t\t\t\t(4, 5)-19\t(4, 6)-20\t\n",
            "\t\t\t\t\t\t\t\t\t\t(5, 6)-21\t\n",
            "\t\t\t\t\t\t\t\t\t\t\t\t"
          ]
        }
      ],
      "source": [
        "###  UPPER HALF\n",
        "# - we can either give precedence to either counter or position\n",
        "#     counter: row based motion arrangement\n",
        "#     position: column based motion arrangement\n",
        "\n",
        "cnt, size = 1, len(input_network)\n",
        "\n",
        "for i in range(1, len(input_network)):\n",
        "    for j in range(1, len(input_network)-i+1):\n",
        "        # print(cnt, end='\\t')\n",
        "        print(f'({i-1}, {j-1+i})-{cnt}', end='\\t')\n",
        "        cnt += 1\n",
        "    print()\n",
        "    for k in range(i): print('\\t\\t', end='')    ## spacing...\n"
      ]
    },
    {
      "cell_type": "code",
      "execution_count": null,
      "id": "0da0f8b0-feb4-47d2-8e55-f4d4f8661c20",
      "metadata": {
        "id": "0da0f8b0-feb4-47d2-8e55-f4d4f8661c20"
      },
      "outputs": [],
      "source": []
    },
    {
      "cell_type": "code",
      "execution_count": null,
      "id": "80f9f560-c99d-4fce-b426-ef80b18ca40d",
      "metadata": {
        "id": "80f9f560-c99d-4fce-b426-ef80b18ca40d",
        "outputId": "00d5b962-fa17-494d-e0ef-923721937be7"
      },
      "outputs": [
        {
          "name": "stdout",
          "output_type": "stream",
          "text": [
            "(1, 0)\n",
            "(2, 0)\n",
            "(2, 1)\n",
            "(3, 0)\n",
            "(3, 1)\n",
            "(3, 2)\n",
            "(4, 0)\n",
            "(4, 1)\n",
            "(4, 2)\n",
            "(4, 3)\n",
            "(5, 0)\n",
            "(5, 1)\n",
            "(5, 2)\n",
            "(5, 3)\n",
            "(5, 4)\n",
            "(6, 0)\n",
            "(6, 1)\n",
            "(6, 2)\n",
            "(6, 3)\n",
            "(6, 4)\n",
            "(6, 5)\n"
          ]
        }
      ],
      "source": [
        "# checking operation of the coordinate xtraction behaviour\n",
        "for i in range(1, cnt):\n",
        "    print(co_ords(i, len(input_network)))"
      ]
    },
    {
      "cell_type": "code",
      "execution_count": null,
      "id": "e89ecbe3-8372-4f61-9dc3-c8561cf919e5",
      "metadata": {
        "id": "e89ecbe3-8372-4f61-9dc3-c8561cf919e5"
      },
      "outputs": [],
      "source": []
    },
    {
      "cell_type": "markdown",
      "id": "488eb8c4-7208-4a62-8eb3-b1f074c92949",
      "metadata": {
        "id": "488eb8c4-7208-4a62-8eb3-b1f074c92949"
      },
      "source": [
        "### Display of merge operation on matrix structure"
      ]
    },
    {
      "cell_type": "code",
      "execution_count": null,
      "id": "c93fcfd5-6675-4f36-9aca-50f5b8675461",
      "metadata": {
        "id": "c93fcfd5-6675-4f36-9aca-50f5b8675461"
      },
      "outputs": [],
      "source": [
        "arSize = len(input_network)\n",
        "cnt = sum(arSize - 1) + 1\n",
        "\n",
        "def merge_sort_inplace(arr, start, end):\n",
        "    if start < end:\n",
        "        mid = (start + end) // 2\n",
        "\n",
        "        # Sorting each half\n",
        "        merge_sort_inplace(arr, start, mid)\n",
        "        merge_sort_inplace(arr, mid + 1, end)\n",
        "\n",
        "        # merging the sorts!\n",
        "        merge_inplace(arr, start, mid, end)\n",
        "\n",
        "def merge_inplace(arr, start, mid, end):\n",
        "    temp = [0] * (end - start + 1)\n",
        "    left_pointer = start\n",
        "    right_pointer = mid + 1\n",
        "    index = 0\n",
        "\n",
        "    while left_pointer <= mid and right_pointer <= end:\n",
        "        l_value, r_value = arr[co_ords(left_pointer, arSize)], arr[co_ords(right_pointer, arSize)]\n",
        "\n",
        "        if l_value <= r_value:\n",
        "            temp[index] = l_value\n",
        "            left_pointer += 1\n",
        "        else:\n",
        "            temp[index] = r_value\n",
        "            right_pointer += 1\n",
        "        index += 1\n",
        "\n",
        "    while left_pointer <= mid:\n",
        "        temp[index] = arr[co_ords(left_pointer, arSize)]\n",
        "        left_pointer += 1\n",
        "        index += 1\n",
        "\n",
        "    while right_pointer <= end:\n",
        "        temp[index] = arr[co_ords(right_pointer, arSize)]\n",
        "        right_pointer += 1\n",
        "        index += 1\n",
        "\n",
        "    # moving the merged elements back to the original array\n",
        "    for i in range(len(temp)):\n",
        "        arr[co_ords(start + i, arSize)] = temp[i]\n"
      ]
    },
    {
      "cell_type": "code",
      "execution_count": null,
      "id": "0877b737-a489-4027-a918-1dc5bff16a08",
      "metadata": {
        "id": "0877b737-a489-4027-a918-1dc5bff16a08",
        "outputId": "8a91bd5e-f00a-497f-f317-6af9ad5e8ce2"
      },
      "outputs": [
        {
          "data": {
            "text/plain": [
              "array([[inf, 14., 10., 19., inf, inf, inf],\n",
              "       [14., inf, inf, 15., 18., inf, inf],\n",
              "       [10., inf, inf, 26., inf, 29., inf],\n",
              "       [19., 15., 26., inf, 16., 17., 21.],\n",
              "       [inf, 18., inf, 16., inf, inf,  9.],\n",
              "       [inf, inf, 29., 17., inf, inf, 25.],\n",
              "       [inf, inf, inf, 21.,  9., 25., inf]])"
            ]
          },
          "execution_count": 10,
          "metadata": {},
          "output_type": "execute_result"
        }
      ],
      "source": [
        "input_network"
      ]
    },
    {
      "cell_type": "code",
      "execution_count": null,
      "id": "450b193a-d589-4dcf-9e7e-9bd4dc35bdd7",
      "metadata": {
        "id": "450b193a-d589-4dcf-9e7e-9bd4dc35bdd7"
      },
      "outputs": [],
      "source": [
        "merge_sort_inplace(input_network, 1, cnt - 1)\n"
      ]
    },
    {
      "cell_type": "code",
      "execution_count": null,
      "id": "6baf9c10-4575-480a-a03d-47985e8aed68",
      "metadata": {
        "id": "6baf9c10-4575-480a-a03d-47985e8aed68",
        "outputId": "6ab72081-36c1-411f-eb90-00932d1f4b25"
      },
      "outputs": [
        {
          "data": {
            "text/plain": [
              "array([[inf, 14., 10., 19., inf, inf, inf],\n",
              "       [ 9., inf, inf, 15., 18., inf, inf],\n",
              "       [10., 14., inf, 26., inf, 29., inf],\n",
              "       [15., 16., 17., inf, 16., 17., 21.],\n",
              "       [18., 19., 21., 25., inf, inf,  9.],\n",
              "       [26., 29., inf, inf, inf, inf, 25.],\n",
              "       [inf, inf, inf, inf, inf, inf, inf]])"
            ]
          },
          "execution_count": 12,
          "metadata": {},
          "output_type": "execute_result"
        }
      ],
      "source": [
        "input_network"
      ]
    },
    {
      "cell_type": "code",
      "execution_count": null,
      "id": "ab94bf3c-cd6c-435e-93b7-61c77101c9c7",
      "metadata": {
        "id": "ab94bf3c-cd6c-435e-93b7-61c77101c9c7"
      },
      "outputs": [],
      "source": []
    },
    {
      "cell_type": "markdown",
      "id": "5ee5cb31-b8d2-49e4-9d84-372a1dfa59d1",
      "metadata": {
        "id": "5ee5cb31-b8d2-49e4-9d84-372a1dfa59d1"
      },
      "source": [
        "### Display of merge operation on nested dictionary structure"
      ]
    },
    {
      "cell_type": "code",
      "execution_count": null,
      "id": "547ebec3-feca-4ea3-83c0-28ad983929a8",
      "metadata": {
        "id": "547ebec3-feca-4ea3-83c0-28ad983929a8"
      },
      "outputs": [],
      "source": [
        "arSize = len(input_network)\n",
        "cnt = sum(arSize - 1)\n",
        "\n",
        "def merge_sort_inplace(arr, start, end):\n",
        "    if start < end:\n",
        "        mid = (start + end) // 2\n",
        "\n",
        "        # Sorting each half\n",
        "        merge_sort_inplace(arr, start, mid)\n",
        "        merge_sort_inplace(arr, mid + 1, end)\n",
        "\n",
        "        # merging the sorts!\n",
        "        merge_inplace(arr, start, mid, end)\n",
        "\n",
        "def merge_inplace(arr, start, mid, end):\n",
        "    temp = [0] * (end - start + 1)\n",
        "    left_pointer = start\n",
        "    right_pointer = mid + 1\n",
        "    index = 0\n",
        "\n",
        "    # comparison and placement operations\n",
        "    while left_pointer <= mid and right_pointer <= end:\n",
        "        left_cords, right_cords = co_ords(left_pointer, arSize), co_ords(right_pointer, arSize)\n",
        "        l_value, r_value = arr[left_cords[0]][left_cords[1]][0], arr[right_cords[0]][right_cords[1]][0]\n",
        "\n",
        "        if l_value <= r_value:\n",
        "            temp[index] = arr[left_cords[0]][left_cords[1]]\n",
        "            left_pointer += 1\n",
        "        else:\n",
        "            temp[index] = arr[right_cords[0]][right_cords[1]]\n",
        "            right_pointer += 1\n",
        "        index += 1\n",
        "\n",
        "    # Copying remaining elements from the left half\n",
        "    while left_pointer <= mid:\n",
        "        left_cords = co_ords(left_pointer, arSize)\n",
        "        temp[index] = arr[left_cords[0]][left_cords[1]]\n",
        "        left_pointer += 1\n",
        "        index += 1\n",
        "\n",
        "    # Copying remaining elements from the right half\n",
        "    while right_pointer <= end:\n",
        "        right_cords = co_ords(right_pointer, arSize)\n",
        "        temp[index] = arr[right_cords[0]][right_cords[1]]\n",
        "        right_pointer += 1\n",
        "        index += 1\n",
        "\n",
        "    # moving the merged elements back to the original array\n",
        "    for i in range(len(temp)):\n",
        "        cords = co_ords(start + i, arSize)\n",
        "        arr[cords[0]][cords[1]] = temp[i]\n"
      ]
    },
    {
      "cell_type": "code",
      "execution_count": null,
      "id": "021cb90e-e10c-4975-9ff0-e967ca033fe5",
      "metadata": {
        "id": "021cb90e-e10c-4975-9ff0-e967ca033fe5"
      },
      "outputs": [],
      "source": []
    },
    {
      "cell_type": "code",
      "execution_count": null,
      "id": "38cf848e-47ae-409e-b473-4aabfc53f68f",
      "metadata": {
        "id": "38cf848e-47ae-409e-b473-4aabfc53f68f"
      },
      "outputs": [],
      "source": [
        "# The nested dictionary prints are oddly shabby!"
      ]
    },
    {
      "cell_type": "code",
      "execution_count": null,
      "id": "57a6ed9d-3591-4aad-8714-140cf69c4723",
      "metadata": {
        "id": "57a6ed9d-3591-4aad-8714-140cf69c4723",
        "outputId": "72bf840f-a1f8-4ae4-e14a-dd0c2913af64"
      },
      "outputs": [
        {
          "name": "stdout",
          "output_type": "stream",
          "text": [
            "{0: (inf, 0, 0), 1: (14, 0, 1), 2: (10, 0, 2), 3: (19, 0, 3), 4: (inf, 0, 4), 5: (inf, 0, 5), 6: (inf, 0, 6)}\n",
            "{0: (14, 1, 0), 1: (inf, 1, 1), 2: (inf, 1, 2), 3: (15, 1, 3), 4: (18, 1, 4), 5: (inf, 1, 5), 6: (inf, 1, 6)}\n",
            "{0: (10, 2, 0), 1: (inf, 2, 1), 2: (inf, 2, 2), 3: (26, 2, 3), 4: (inf, 2, 4), 5: (29, 2, 5), 6: (inf, 2, 6)}\n",
            "{0: (19, 3, 0), 1: (15, 3, 1), 2: (26, 3, 2), 3: (inf, 3, 3), 4: (16, 3, 4), 5: (17, 3, 5), 6: (21, 3, 6)}\n",
            "{0: (inf, 4, 0), 1: (18, 4, 1), 2: (inf, 4, 2), 3: (16, 4, 3), 4: (inf, 4, 4), 5: (inf, 4, 5), 6: (9, 4, 6)}\n",
            "{0: (inf, 5, 0), 1: (inf, 5, 1), 2: (29, 5, 2), 3: (17, 5, 3), 4: (inf, 5, 4), 5: (inf, 5, 5), 6: (25, 5, 6)}\n",
            "{0: (inf, 6, 0), 1: (inf, 6, 1), 2: (inf, 6, 2), 3: (21, 6, 3), 4: (9, 6, 4), 5: (25, 6, 5), 6: (inf, 6, 6)}\n"
          ]
        }
      ],
      "source": [
        "for item in data_store.values():\n",
        "    print(item)"
      ]
    },
    {
      "cell_type": "code",
      "execution_count": null,
      "id": "9ed53582-7b07-4f87-b349-e22b97797e33",
      "metadata": {
        "id": "9ed53582-7b07-4f87-b349-e22b97797e33"
      },
      "outputs": [],
      "source": [
        "merge_sort_inplace(data_store, 1, cnt)\n"
      ]
    },
    {
      "cell_type": "code",
      "execution_count": null,
      "id": "295e3fc4-3930-4e74-bb5c-5d1cd50e2101",
      "metadata": {
        "id": "295e3fc4-3930-4e74-bb5c-5d1cd50e2101",
        "outputId": "480d1350-0344-4787-d24b-3ca5a8d930ba"
      },
      "outputs": [
        {
          "name": "stdout",
          "output_type": "stream",
          "text": [
            "{0: (inf, 0, 0), 1: (14, 0, 1), 2: (10, 0, 2), 3: (19, 0, 3), 4: (inf, 0, 4), 5: (inf, 0, 5), 6: (inf, 0, 6)}\n",
            "{0: (9, 6, 4), 1: (inf, 1, 1), 2: (inf, 1, 2), 3: (15, 1, 3), 4: (18, 1, 4), 5: (inf, 1, 5), 6: (inf, 1, 6)}\n",
            "{0: (10, 2, 0), 1: (14, 1, 0), 2: (inf, 2, 2), 3: (26, 2, 3), 4: (inf, 2, 4), 5: (29, 2, 5), 6: (inf, 2, 6)}\n",
            "{0: (15, 3, 1), 1: (16, 4, 3), 2: (17, 5, 3), 3: (inf, 3, 3), 4: (16, 3, 4), 5: (17, 3, 5), 6: (21, 3, 6)}\n",
            "{0: (18, 4, 1), 1: (19, 3, 0), 2: (21, 6, 3), 3: (25, 6, 5), 4: (inf, 4, 4), 5: (inf, 4, 5), 6: (9, 4, 6)}\n",
            "{0: (26, 3, 2), 1: (29, 5, 2), 2: (inf, 2, 1), 3: (inf, 4, 0), 4: (inf, 4, 2), 5: (inf, 5, 5), 6: (25, 5, 6)}\n",
            "{0: (inf, 5, 0), 1: (inf, 5, 1), 2: (inf, 5, 4), 3: (inf, 6, 0), 4: (inf, 6, 1), 5: (inf, 6, 2), 6: (inf, 6, 6)}\n"
          ]
        }
      ],
      "source": [
        "for item in data_store.values():\n",
        "    print(item)"
      ]
    },
    {
      "cell_type": "code",
      "execution_count": null,
      "id": "924e1cf2-1e99-41d4-89ea-87ee792f2ace",
      "metadata": {
        "id": "924e1cf2-1e99-41d4-89ea-87ee792f2ace"
      },
      "outputs": [],
      "source": []
    },
    {
      "cell_type": "markdown",
      "id": "54e2df04-2d12-4670-8cb3-64548d6f291a",
      "metadata": {
        "id": "54e2df04-2d12-4670-8cb3-64548d6f291a"
      },
      "source": [
        "### Acquiring shortest path and distance"
      ]
    },
    {
      "cell_type": "code",
      "execution_count": null,
      "id": "9713800a-96e4-4b34-8aad-8360891c3ccd",
      "metadata": {
        "id": "9713800a-96e4-4b34-8aad-8360891c3ccd"
      },
      "outputs": [],
      "source": [
        "def get_path(store):\n",
        "    result_dict, optimised_sum = {}, 0\n",
        "\n",
        "    for i in range(1, cnt):\n",
        "        cords = co_ords(i, arSize)\n",
        "        try:\n",
        "            result_dict[store[cords[0]][cords[1]][1]]\n",
        "        except KeyError:\n",
        "            result_dict[store[cords[0]][cords[1]][1]] = store[cords[0]][cords[1]]\n",
        "            optimised_sum += store[cords[0]][cords[1]][0]\n",
        "\n",
        "            if len(result_dict) == arSize-1:\n",
        "                break\n",
        "\n",
        "    return result_dict, optimised_sum\n"
      ]
    },
    {
      "cell_type": "code",
      "execution_count": null,
      "id": "4fcadda2-4fc1-405e-b31e-5c36a012e2e3",
      "metadata": {
        "id": "4fcadda2-4fc1-405e-b31e-5c36a012e2e3",
        "outputId": "6c157c71-7cee-4743-b262-8b209c1af6e6"
      },
      "outputs": [
        {
          "name": "stdout",
          "output_type": "stream",
          "text": [
            "Smallest distance 81\n",
            "{6: (9, 6, 4), 2: (10, 2, 0), 1: (14, 1, 0), 3: (15, 3, 1), 4: (16, 4, 3), 5: (17, 5, 3)}\n"
          ]
        }
      ],
      "source": [
        "path_list, lowest_sum = get_path(data_store)\n",
        "\n",
        "print('Smallest distance', lowest_sum)\n",
        "print(path_list)\n"
      ]
    },
    {
      "cell_type": "code",
      "execution_count": null,
      "id": "d0585447-3105-4083-adcc-9a9cfeff3dc6",
      "metadata": {
        "id": "d0585447-3105-4083-adcc-9a9cfeff3dc6",
        "outputId": "02eeb39d-2411-49a6-c043-b42d45ee5aa2"
      },
      "outputs": [
        {
          "name": "stdout",
          "output_type": "stream",
          "text": [
            "219.0\n",
            "81\n"
          ]
        }
      ],
      "source": [
        "print(initial_sum)\n",
        "print(lowest_sum)"
      ]
    },
    {
      "cell_type": "code",
      "execution_count": null,
      "id": "5999aee9-0fbc-4c95-a141-971bc8d447c2",
      "metadata": {
        "id": "5999aee9-0fbc-4c95-a141-971bc8d447c2",
        "outputId": "5f35b998-79fc-47d2-b6b5-c9a89e1e26f5"
      },
      "outputs": [
        {
          "name": "stdout",
          "output_type": "stream",
          "text": [
            "138.0\n"
          ]
        }
      ],
      "source": [
        "# acquiring how much distance is saved from the original monolith\n",
        "saving = initial_sum - lowest_sum\n",
        "print(saving)"
      ]
    },
    {
      "cell_type": "code",
      "execution_count": null,
      "id": "d04904b3-af45-4093-8784-5951fbb780b3",
      "metadata": {
        "id": "d04904b3-af45-4093-8784-5951fbb780b3"
      },
      "outputs": [],
      "source": []
    },
    {
      "cell_type": "markdown",
      "id": "4585bdf2-6fdf-413a-8a9f-599900e9a869",
      "metadata": {
        "id": "4585bdf2-6fdf-413a-8a9f-599900e9a869"
      },
      "source": [
        "### Recommendations"
      ]
    },
    {
      "cell_type": "markdown",
      "id": "b0b12281-40ba-45c0-b232-6838e8988c07",
      "metadata": {
        "id": "b0b12281-40ba-45c0-b232-6838e8988c07"
      },
      "source": [
        "> In real-world situations its rare to encounter a fully connected graph. Therefore dealing with pointless empty spaces in the structure that lack distances is a valid option\n",
        "\n",
        "> That nested dictionary structure is a little excessive on memory and may not be wise\n",
        "\n",
        "> An implementation for \"sorted vertices\" that isn't discriminant of directed or undirected matrices would prove valuable\n",
        "\n",
        "> Utilising parallelised merge sort could further decrease runtime\n",
        "\n",
        "> A proper merge sort without the use of 'temp' array and an excess linear passage of elements without pecking away at memory is much appreciated.\n",
        "\n",
        "> Calculation of edge summations with the algorithm “sum” needs to be performed using iteration instead of recursion to avoid raising maximum recursion depth related errors\n",
        "\n",
        "> The search operation relative to the vertices number after sorting need not be linear but could be adjusted to suit differing requirements.\n",
        "\n",
        "> An advanced sorting algorithm that runs lower than O(n log(n)) is required if time complexity is to be significantly reduced"
      ]
    },
    {
      "cell_type": "code",
      "execution_count": null,
      "id": "f47aeadf-508c-42f2-9bfa-8eee3b877694",
      "metadata": {
        "id": "f47aeadf-508c-42f2-9bfa-8eee3b877694"
      },
      "outputs": [],
      "source": []
    }
  ],
  "metadata": {
    "kernelspec": {
      "display_name": "Python 3 (ipykernel)",
      "language": "python",
      "name": "python3"
    },
    "language_info": {
      "codemirror_mode": {
        "name": "ipython",
        "version": 3
      },
      "file_extension": ".py",
      "mimetype": "text/x-python",
      "name": "python",
      "nbconvert_exporter": "python",
      "pygments_lexer": "ipython3",
      "version": "3.10.10"
    },
    "colab": {
      "provenance": []
    }
  },
  "nbformat": 4,
  "nbformat_minor": 5
}